{
  "nbformat": 4,
  "nbformat_minor": 0,
  "metadata": {
    "colab": {
      "provenance": [],
      "authorship_tag": "ABX9TyPHprEtCR8ZQe9GkrOoPqEM",
      "include_colab_link": true
    },
    "kernelspec": {
      "name": "python3",
      "display_name": "Python 3"
    },
    "language_info": {
      "name": "python"
    }
  },
  "cells": [
    {
      "cell_type": "markdown",
      "metadata": {
        "id": "view-in-github",
        "colab_type": "text"
      },
      "source": [
        "<a href=\"https://colab.research.google.com/github/Mrudhula1/Assignment_5/blob/main/Assignment_5.ipynb\" target=\"_parent\"><img src=\"https://colab.research.google.com/assets/colab-badge.svg\" alt=\"Open In Colab\"/></a>"
      ]
    },
    {
      "cell_type": "markdown",
      "source": [
        "PROBLEM - 1\n"
      ],
      "metadata": {
        "id": "KW3Rt6g-nao6"
      }
    },
    {
      "cell_type": "code",
      "source": [
        "import pandas as pd\n",
        "from sklearn.model_selection import train_test_split\n",
        "from sklearn.naive_bayes import GaussianNB\n",
        "from sklearn.metrics import classification_report\n",
        "\n",
        "data = pd.read_csv('glass.csv')\n",
        "\n",
        "x = data.drop('Type', axis=1)\n",
        "y = data['Type']\n",
        "\n",
        "x_train, x_test, y_train, y_true = train_test_split(x, y, test_size=1/3, random_state=0)\n",
        "\n",
        "bayes = GaussianNB()\n",
        "\n",
        "bayes.fit(x_train, y_train)\n",
        "\n",
        "y_pred = bayes.predict(x_test)\n",
        "\n",
        "accuracy = bayes.score(x_test, y_true)\n",
        "\n",
        "classification_rep = classification_report(y_true, y_pred)\n",
        "\n",
        "print(\"Accuracy:\", accuracy)\n",
        "print(\"Classification Report:\\n\", classification_rep)"
      ],
      "metadata": {
        "colab": {
          "base_uri": "https://localhost:8080/"
        },
        "id": "45nu3j_-nc-3",
        "outputId": "4df1a395-73ae-43da-d43d-c6e994f6b5c8"
      },
      "execution_count": 1,
      "outputs": [
        {
          "output_type": "stream",
          "name": "stdout",
          "text": [
            "Accuracy: 0.4305555555555556\n",
            "Classification Report:\n",
            "               precision    recall  f1-score   support\n",
            "\n",
            "           1       0.42      0.72      0.53        25\n",
            "           2       0.40      0.14      0.21        28\n",
            "           3       0.00      0.00      0.00         8\n",
            "           5       0.00      0.00      0.00         2\n",
            "           6       0.40      1.00      0.57         2\n",
            "           7       0.78      1.00      0.88         7\n",
            "\n",
            "    accuracy                           0.43        72\n",
            "   macro avg       0.33      0.48      0.36        72\n",
            "weighted avg       0.39      0.43      0.37        72\n",
            "\n"
          ]
        }
      ]
    },
    {
      "cell_type": "markdown",
      "source": [
        "PROBLEM - 2\n"
      ],
      "metadata": {
        "id": "hHN4jG1ZoKCx"
      }
    },
    {
      "cell_type": "code",
      "source": [
        "import pandas as pd\n",
        "from sklearn.model_selection import train_test_split\n",
        "from sklearn.svm import SVC\n",
        "from sklearn.metrics import classification_report\n",
        "\n",
        "data = pd.read_csv('glass.csv')\n",
        "\n",
        "x = data.drop('Type', axis=1)\n",
        "y = data['Type']\n",
        "\n",
        "x_train, x_test, y_train, y_true = train_test_split(x, y, test_size=1/3, random_state=0)\n",
        "\n",
        "svm = SVC(kernel='linear')\n",
        "\n",
        "svm.fit(x_train, y_train)\n",
        "\n",
        "y_pred = svm.predict(x_test)\n",
        "\n",
        "accuracy = svm.score(x_test, y_true)\n",
        "\n",
        "classification_rep = classification_report(y_true, y_pred, zero_division= 0)\n",
        "\n",
        "print(\"Accuracy:\", accuracy)\n",
        "print(\"Classification Report:\\n\", classification_rep)\n"
      ],
      "metadata": {
        "colab": {
          "base_uri": "https://localhost:8080/"
        },
        "id": "wGGr1tDsoMhv",
        "outputId": "12627b48-a998-420e-fad8-f062d8f0bf20"
      },
      "execution_count": 2,
      "outputs": [
        {
          "output_type": "stream",
          "name": "stdout",
          "text": [
            "Accuracy: 0.5972222222222222\n",
            "Classification Report:\n",
            "               precision    recall  f1-score   support\n",
            "\n",
            "           1       0.61      0.68      0.64        25\n",
            "           2       0.55      0.61      0.58        28\n",
            "           3       0.00      0.00      0.00         8\n",
            "           5       0.67      1.00      0.80         2\n",
            "           6       0.00      0.00      0.00         2\n",
            "           7       0.88      1.00      0.93         7\n",
            "\n",
            "    accuracy                           0.60        72\n",
            "   macro avg       0.45      0.55      0.49        72\n",
            "weighted avg       0.53      0.60      0.56        72\n",
            "\n"
          ]
        }
      ]
    },
    {
      "cell_type": "code",
      "source": [
        "import pandas as pd\n",
        "from sklearn.svm import SVC, LinearSVC\n",
        "from sklearn.neighbors import KNeighborsClassifier\n",
        "\n",
        "\n",
        "train_df = pd.read_csv('./train_preprocessed.csv')\n",
        "test_df = pd.read_csv('./test_preprocessed.csv')\n",
        "X_train = train_df.drop(\"Survived\",axis=1)\n",
        "Y_train = train_df[\"Survived\"]\n",
        "X_test = test_df.drop(\"PassengerId\",axis=1).copy()\n",
        "print(train_df[train_df.isnull().any(axis=1)])\n",
        "\n",
        "##KNN\n",
        "knn = KNeighborsClassifier(n_neighbors = 3)\n",
        "knn.fit(X_train, Y_train)\n",
        "Y_pred = knn.predict(X_test)\n",
        "acc_knn = round(knn.score(X_train, Y_train) * 100, 2)\n",
        "print(\"KNN accuracy is:\",acc_knn)"
      ],
      "metadata": {
        "colab": {
          "base_uri": "https://localhost:8080/"
        },
        "id": "o3ZB3mK5pXc1",
        "outputId": "f83eeef7-02c8-457d-aeca-20eb23d0dca4"
      },
      "execution_count": 3,
      "outputs": [
        {
          "output_type": "stream",
          "name": "stdout",
          "text": [
            "Empty DataFrame\n",
            "Columns: [Survived, Pclass, Sex, Age, Fare, Embarked]\n",
            "Index: []\n",
            "KNN accuracy is: 83.39\n"
          ]
        }
      ]
    },
    {
      "cell_type": "code",
      "source": [
        "import pandas as pd\n",
        "from sklearn.svm import SVC, LinearSVC\n",
        "from sklearn.neighbors import KNeighborsClassifier\n",
        "\n",
        "\n",
        "train_df = pd.read_csv('./train_preprocessed.csv')\n",
        "test_df = pd.read_csv('./test_preprocessed.csv')\n",
        "X_train = train_df.drop(\"Survived\",axis=1)\n",
        "Y_train = train_df[\"Survived\"]\n",
        "X_test = test_df.drop(\"PassengerId\",axis=1).copy()\n",
        "print(train_df[train_df.isnull().any(axis=1)])\n",
        "\n",
        "##SVM\n",
        "svc = SVC()\n",
        "svc.fit(X_train, Y_train)\n",
        "Y_pred = svc.predict(X_test)\n",
        "acc_svc = round(svc.score(X_train, Y_train) * 100, 2)\n",
        "print(\"svm accuracy is:\", acc_svc)"
      ],
      "metadata": {
        "colab": {
          "base_uri": "https://localhost:8080/"
        },
        "id": "tu6gnYFTpaRo",
        "outputId": "8c59b4c9-0dcb-4096-ed37-e8111e5029df"
      },
      "execution_count": 4,
      "outputs": [
        {
          "output_type": "stream",
          "name": "stdout",
          "text": [
            "Empty DataFrame\n",
            "Columns: [Survived, Pclass, Sex, Age, Fare, Embarked]\n",
            "Index: []\n",
            "svm accuracy is: 68.35\n"
          ]
        }
      ]
    }
  ]
}